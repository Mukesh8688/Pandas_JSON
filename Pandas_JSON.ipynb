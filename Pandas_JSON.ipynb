{
 "cells": [
  {
   "cell_type": "markdown",
   "metadata": {},
   "source": [
    "## Pandas_JSON\n",
    "### This project about how to use  pandas,JSON together for web scrapping to collect data.\n",
    "### Data has been taken from kaggle.com public domain only for academic purpose.\n"
   ]
  },
  {
   "cell_type": "code",
   "execution_count": 7,
   "metadata": {},
   "outputs": [],
   "source": [
    "# import pandas and Numpy\n",
    "\n",
    "import pandas as pd\n",
    "import numpy as np\n",
    "import matplotlib.pyplot as plt\n",
    "%matplotlib inline\n",
    "\n",
    "\n",
    "import warnings\n",
    "warnings.filterwarnings(\"ignore\")\n",
    "\n"
   ]
  },
  {
   "cell_type": "code",
   "execution_count": 15,
   "metadata": {},
   "outputs": [
    {
     "name": "stdout",
     "output_type": "stream",
     "text": [
      "Use the built-in json module:\n",
      " \n",
      "{'product': {'0': 'Desktop Computer', '1': 'Laptop', '2': 'iphone', '3': 'Tablet'}, 'price': {'0': '500', '1': '650', '2': '800', '3': '400'}}\n",
      " \n",
      "Use the pandas module:\n",
      "\n",
      "                        0       1       2       3\n",
      "price                 500     650     800     400\n",
      "product  Desktop Computer  Laptop  iphone  Tablet\n"
     ]
    }
   ],
   "source": [
    "import json\n",
    "\n",
    "\n",
    "# use the built-in json module\n",
    "with open('product.json') as json_file:\n",
    "    product = json.load(json_file)\n",
    "    \n",
    "print(\"Use the built-in json module:\\n \")    \n",
    "print(product)\n",
    "\n",
    "# use the pandas module\n",
    "\n",
    "with open('product.json') as json_file:\n",
    "    product_pd = pd.read_json(json_file,orient='index')\n",
    "\n",
    "print(\" \\nUse the pandas module:\\n\")    \n",
    "print(product_pd)    "
   ]
  },
  {
   "cell_type": "code",
   "execution_count": 10,
   "metadata": {},
   "outputs": [],
   "source": [
    "# write json \n",
    "\n",
    "product = { \"product\":\n",
    "    { \"0\":\"Desktop Computer\",\n",
    "      \"1\":\"Laptop\",\n",
    "      \"2\":\"iphone\",\n",
    "      \"3\":\"Tablet\"},\n",
    " \"price\":\n",
    "    { \"0\":\"500\",\n",
    "      \"1\":\"650\",\n",
    "      \"2\":\"800\",\n",
    "      \"3\":\"400\"}\n",
    "}\n",
    "\n",
    "with open(\"product.json\",'w+') as file:\n",
    "    json.dump(product,file)\n",
    "    "
   ]
  },
  {
   "cell_type": "code",
   "execution_count": null,
   "metadata": {},
   "outputs": [],
   "source": []
  }
 ],
 "metadata": {
  "kernelspec": {
   "display_name": "Python 3",
   "language": "python",
   "name": "python3"
  },
  "language_info": {
   "codemirror_mode": {
    "name": "ipython",
    "version": 3
   },
   "file_extension": ".py",
   "mimetype": "text/x-python",
   "name": "python",
   "nbconvert_exporter": "python",
   "pygments_lexer": "ipython3",
   "version": "3.7.4"
  }
 },
 "nbformat": 4,
 "nbformat_minor": 4
}
